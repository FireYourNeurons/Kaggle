{
 "cells": [
  {
   "cell_type": "code",
   "execution_count": 1,
   "metadata": {},
   "outputs": [],
   "source": [
    "import pandas as pd\n",
    "import numpy as np\n",
    "import matplotlib.pyplot as plt\n",
    "import seaborn as sns\n",
    "%matplotlib inline\n",
    "train=pd.read_csv('train2.csv')\n",
    "test=pd.read_csv('test2.csv')\n",
    "sample=pd.read_csv('sample.csv')"
   ]
  },
  {
   "cell_type": "code",
   "execution_count": 473,
   "metadata": {},
   "outputs": [
    {
     "data": {
      "text/html": [
       "<div>\n",
       "<style scoped>\n",
       "    .dataframe tbody tr th:only-of-type {\n",
       "        vertical-align: middle;\n",
       "    }\n",
       "\n",
       "    .dataframe tbody tr th {\n",
       "        vertical-align: top;\n",
       "    }\n",
       "\n",
       "    .dataframe thead th {\n",
       "        text-align: right;\n",
       "    }\n",
       "</style>\n",
       "<table border=\"1\" class=\"dataframe\">\n",
       "  <thead>\n",
       "    <tr style=\"text-align: right;\">\n",
       "      <th></th>\n",
       "      <th>id</th>\n",
       "      <th>program_id</th>\n",
       "      <th>program_type</th>\n",
       "      <th>program_duration</th>\n",
       "      <th>test_id</th>\n",
       "      <th>test_type</th>\n",
       "      <th>difficulty_level</th>\n",
       "      <th>trainee_id</th>\n",
       "      <th>gender</th>\n",
       "      <th>education</th>\n",
       "      <th>city_tier</th>\n",
       "      <th>age</th>\n",
       "      <th>total_programs_enrolled</th>\n",
       "      <th>is_handicapped</th>\n",
       "      <th>trainee_engagement_rating</th>\n",
       "      <th>is_pass</th>\n",
       "    </tr>\n",
       "  </thead>\n",
       "  <tbody>\n",
       "    <tr>\n",
       "      <th>0</th>\n",
       "      <td>9389_150</td>\n",
       "      <td>Y_1</td>\n",
       "      <td>Y</td>\n",
       "      <td>136</td>\n",
       "      <td>150</td>\n",
       "      <td>offline</td>\n",
       "      <td>intermediate</td>\n",
       "      <td>9389</td>\n",
       "      <td>M</td>\n",
       "      <td>Matriculation</td>\n",
       "      <td>3</td>\n",
       "      <td>24.0</td>\n",
       "      <td>5</td>\n",
       "      <td>N</td>\n",
       "      <td>1.0</td>\n",
       "      <td>0</td>\n",
       "    </tr>\n",
       "    <tr>\n",
       "      <th>1</th>\n",
       "      <td>16523_44</td>\n",
       "      <td>T_1</td>\n",
       "      <td>T</td>\n",
       "      <td>131</td>\n",
       "      <td>44</td>\n",
       "      <td>offline</td>\n",
       "      <td>easy</td>\n",
       "      <td>16523</td>\n",
       "      <td>F</td>\n",
       "      <td>High School Diploma</td>\n",
       "      <td>4</td>\n",
       "      <td>26.0</td>\n",
       "      <td>2</td>\n",
       "      <td>N</td>\n",
       "      <td>3.0</td>\n",
       "      <td>1</td>\n",
       "    </tr>\n",
       "    <tr>\n",
       "      <th>2</th>\n",
       "      <td>13987_178</td>\n",
       "      <td>Z_2</td>\n",
       "      <td>Z</td>\n",
       "      <td>120</td>\n",
       "      <td>178</td>\n",
       "      <td>online</td>\n",
       "      <td>easy</td>\n",
       "      <td>13987</td>\n",
       "      <td>M</td>\n",
       "      <td>Matriculation</td>\n",
       "      <td>1</td>\n",
       "      <td>40.0</td>\n",
       "      <td>1</td>\n",
       "      <td>N</td>\n",
       "      <td>2.0</td>\n",
       "      <td>1</td>\n",
       "    </tr>\n",
       "    <tr>\n",
       "      <th>3</th>\n",
       "      <td>13158_32</td>\n",
       "      <td>T_2</td>\n",
       "      <td>T</td>\n",
       "      <td>117</td>\n",
       "      <td>32</td>\n",
       "      <td>offline</td>\n",
       "      <td>easy</td>\n",
       "      <td>13158</td>\n",
       "      <td>F</td>\n",
       "      <td>Matriculation</td>\n",
       "      <td>3</td>\n",
       "      <td>39.0</td>\n",
       "      <td>4</td>\n",
       "      <td>N</td>\n",
       "      <td>1.0</td>\n",
       "      <td>1</td>\n",
       "    </tr>\n",
       "    <tr>\n",
       "      <th>4</th>\n",
       "      <td>10591_84</td>\n",
       "      <td>V_3</td>\n",
       "      <td>V</td>\n",
       "      <td>131</td>\n",
       "      <td>84</td>\n",
       "      <td>offline</td>\n",
       "      <td>intermediate</td>\n",
       "      <td>10591</td>\n",
       "      <td>F</td>\n",
       "      <td>High School Diploma</td>\n",
       "      <td>1</td>\n",
       "      <td>42.0</td>\n",
       "      <td>2</td>\n",
       "      <td>N</td>\n",
       "      <td>4.0</td>\n",
       "      <td>1</td>\n",
       "    </tr>\n",
       "  </tbody>\n",
       "</table>\n",
       "</div>"
      ],
      "text/plain": [
       "          id program_id program_type  program_duration  test_id test_type  \\\n",
       "0   9389_150        Y_1            Y               136      150   offline   \n",
       "1   16523_44        T_1            T               131       44   offline   \n",
       "2  13987_178        Z_2            Z               120      178    online   \n",
       "3   13158_32        T_2            T               117       32   offline   \n",
       "4   10591_84        V_3            V               131       84   offline   \n",
       "\n",
       "  difficulty_level  trainee_id gender            education  city_tier   age  \\\n",
       "0     intermediate        9389      M        Matriculation          3  24.0   \n",
       "1             easy       16523      F  High School Diploma          4  26.0   \n",
       "2             easy       13987      M        Matriculation          1  40.0   \n",
       "3             easy       13158      F        Matriculation          3  39.0   \n",
       "4     intermediate       10591      F  High School Diploma          1  42.0   \n",
       "\n",
       "   total_programs_enrolled is_handicapped  trainee_engagement_rating  is_pass  \n",
       "0                        5              N                        1.0        0  \n",
       "1                        2              N                        3.0        1  \n",
       "2                        1              N                        2.0        1  \n",
       "3                        4              N                        1.0        1  \n",
       "4                        2              N                        4.0        1  "
      ]
     },
     "execution_count": 473,
     "metadata": {},
     "output_type": "execute_result"
    }
   ],
   "source": [
    "train.head()"
   ]
  },
  {
   "cell_type": "code",
   "execution_count": null,
   "metadata": {},
   "outputs": [],
   "source": [
    "tr=train.drop(['id','trainee_id','test_id','trainee_id','program_id'],axis=1)"
   ]
  },
  {
   "cell_type": "code",
   "execution_count": null,
   "metadata": {},
   "outputs": [],
   "source": [
    "te=test.drop(['id','trainee_id','test_id','trainee_id','program_id'],axis=1)"
   ]
  },
  {
   "cell_type": "code",
   "execution_count": null,
   "metadata": {},
   "outputs": [],
   "source": [
    "tr.head()"
   ]
  },
  {
   "cell_type": "code",
   "execution_count": null,
   "metadata": {},
   "outputs": [],
   "source": [
    "te.head()"
   ]
  },
  {
   "cell_type": "code",
   "execution_count": null,
   "metadata": {},
   "outputs": [],
   "source": [
    "f,ax=plt.subplots(1,2,figsize=(18,8))\n",
    "train[['gender','is_pass']].groupby(['gender']).mean().plot.bar(ax=ax[0])\n",
    "ax[0].set_title('pass vs Sex')\n",
    "sns.countplot('gender',hue='is_pass',data=train,ax=ax[1])\n",
    "ax[1].set_title('Sex:pass vs fail')\n",
    "plt.show()"
   ]
  },
  {
   "cell_type": "code",
   "execution_count": null,
   "metadata": {},
   "outputs": [],
   "source": [
    "f,ax=plt.subplots(1,2,figsize=(18,8))\n",
    "train[['trainee_engagement_rating','is_pass']].groupby(['trainee_engagement_rating']).mean().plot.bar(ax=ax[0])\n",
    "ax[0].set_title('pass vs trainee_engagement_rating')\n",
    "sns.countplot('trainee_engagement_rating',hue='is_pass',data=train,ax=ax[1])\n",
    "ax[1].set_title('trainee_engagement_rating:pass vs fail')\n",
    "plt.show()"
   ]
  },
  {
   "cell_type": "code",
   "execution_count": null,
   "metadata": {},
   "outputs": [],
   "source": [
    "f,ax=plt.subplots(1,2,figsize=(18,8))\n",
    "train[['city_tier','is_pass']].groupby(['city_tier']).mean().plot.bar(ax=ax[0])\n",
    "ax[0].set_title('pass vs city_tier')\n",
    "sns.countplot('city_tier',hue='is_pass',data=train,ax=ax[1])\n",
    "ax[1].set_title('city_tier:pass vs fail')\n",
    "plt.show()"
   ]
  },
  {
   "cell_type": "code",
   "execution_count": null,
   "metadata": {},
   "outputs": [],
   "source": [
    "sns.factorplot('trainee_engagement_rating','is_pass',hue='gender',data=train)\n",
    "plt.show()"
   ]
  },
  {
   "cell_type": "code",
   "execution_count": null,
   "metadata": {},
   "outputs": [],
   "source": [
    "pd.crosstab(train.total_programs_enrolled,train.is_pass,margins=True).style.background_gradient(cmap='summer_r')"
   ]
  },
  {
   "cell_type": "code",
   "execution_count": null,
   "metadata": {},
   "outputs": [],
   "source": [
    "f,ax=plt.subplots(1,2,figsize=(18,8))\n",
    "train['total_programs_enrolled'].value_counts().plot.bar(color=['#CD7F32','#FFDF00','#D3D3D3'],ax=ax[0])\n",
    "ax[0].set_title('Number Of Passengers By Pclass')\n",
    "ax[0].set_ylabel('Count')\n",
    "sns.countplot('total_programs_enrolled',hue='is_pass',data=train,ax=ax[1])\n",
    "ax[1].set_title('pogram:Survived vs Dead')\n",
    "plt.show()"
   ]
  },
  {
   "cell_type": "code",
   "execution_count": null,
   "metadata": {},
   "outputs": [],
   "source": [
    "f,ax=plt.subplots(1,2,figsize=(18,8))\n",
    "train[['is_handicapped','is_pass']].groupby(['is_handicapped']).mean().plot.bar(ax=ax[0])\n",
    "ax[0].set_title('pass vs is_handicapped')\n",
    "sns.countplot('is_handicapped',hue='is_pass',data=train,ax=ax[1])\n",
    "ax[1].set_title('is_handicapped:pass vs fail')\n",
    "plt.show()"
   ]
  },
  {
   "cell_type": "code",
   "execution_count": 65,
   "metadata": {},
   "outputs": [
    {
     "data": {
      "image/png": "[encoded data removed]",
      "text/plain": [
       "<matplotlib.figure.Figure at 0x7f9e26472eb8>"
      ]
     },
     "metadata": {},
     "output_type": "display_data"
    }
   ],
   "source": [
    "f,ax=plt.subplots(1,2,figsize=(18,8))\n",
    "train[['education','is_pass']].groupby(['education']).mean().plot.bar(ax=ax[0])\n",
    "ax[0].set_title('pass vs edu')\n",
    "sns.countplot('education',hue='is_pass',data=train,ax=ax[1])\n",
    "ax[1].set_title('education:pass vs fail')\n",
    "plt.show()"
   ]
  },
  {
   "cell_type": "code",
   "execution_count": null,
   "metadata": {},
   "outputs": [],
   "source": [
    "train.head()"
   ]
  },
  {
   "cell_type": "code",
   "execution_count": 13,
   "metadata": {},
   "outputs": [
    {
     "data": {
      "image/png": "[encoded data removed]",
      "text/plain": [
       "<matplotlib.figure.Figure at 0x7f9e26725588>"
      ]
     },
     "metadata": {},
     "output_type": "display_data"
    }
   ],
   "source": [
    "f,ax=plt.subplots(1,2,figsize=(18,8))\n",
    "train[['difficulty_level','is_pass']].groupby(['difficulty_level']).mean().plot.bar(ax=ax[0])\n",
    "ax[0].set_title('pass vs difficulty_level')\n",
    "sns.countplot('difficulty_level',hue='is_pass',data=train,ax=ax[1])\n",
    "ax[1].set_title('difficulty_level:pass vs fail')\n",
    "plt.show()"
   ]
  },
  {
   "cell_type": "code",
   "execution_count": null,
   "metadata": {},
   "outputs": [],
   "source": [
    "f,ax=plt.subplots(1,2,figsize=(18,8))\n",
    "train[['test_type','is_pass']].groupby(['test_type']).mean().plot.bar(ax=ax[0])\n",
    "ax[0].set_title('pass vs test_type')\n",
    "sns.countplot('test_type',hue='is_pass',data=train,ax=ax[1])\n",
    "ax[1].set_title('test_type:pass vs fail')\n",
    "plt.show()"
   ]
  },
  {
   "cell_type": "code",
   "execution_count": 474,
   "metadata": {},
   "outputs": [
    {
     "data": {
      "image/png": "[encoded data removed]",
      "text/plain": [
       "<matplotlib.figure.Figure at 0x7f9e1ba8fb00>"
      ]
     },
     "metadata": {},
     "output_type": "display_data"
    }
   ],
   "source": [
    "f,ax=plt.subplots(1,2,figsize=(18,8))\n",
    "train[['program_type','is_pass']].groupby(['program_type']).mean().plot.bar(ax=ax[0])\n",
    "ax[0].set_title('pass vs program_type')\n",
    "sns.countplot('program_type',hue='is_pass',data=train,ax=ax[1])\n",
    "ax[1].set_title('program_type:pass vs fail')\n",
    "plt.show()"
   ]
  },
  {
   "cell_type": "code",
   "execution_count": null,
   "metadata": {},
   "outputs": [],
   "source": [
    "f,ax=plt.subplots(1,2,figsize=(20,10))\n",
    "train[train['is_pass']==0].age.plot.hist(ax=ax[0],bins=20,edgecolor='black',color='red')\n",
    "ax[0].set_title('is_pass= 0')\n",
    "x1=list(range(0,85,5))\n",
    "ax[0].set_xticks(x1)\n",
    "train[train['is_pass']==1].age.plot.hist(ax=ax[1],color='green',bins=20,edgecolor='black')\n",
    "ax[1].set_title('is_pass= 1')\n",
    "x2=list(range(0,85,5))\n",
    "ax[1].set_xticks(x2)\n",
    "plt.show()"
   ]
  },
  {
   "cell_type": "code",
   "execution_count": 519,
   "metadata": {},
   "outputs": [],
   "source": [
    "# X=tr.iloc[:,:-1].values\n",
    "Y=train.iloc[:,-1].values\n",
    "\n",
    "X=np.array(train[['test_type','difficulty_level','education', 'trainee_engagement_rating','program_duration' ,'city_tier','total_programs_enrolled','age','program_type','gender']])\n",
    "test_X=np.array(test[['test_type','difficulty_level','education', 'trainee_engagement_rating','program_duration','city_tier','total_programs_enrolled','age','program_type','gender']])"
   ]
  },
  {
   "cell_type": "code",
   "execution_count": 520,
   "metadata": {},
   "outputs": [
    {
     "data": {
      "text/plain": [
       "True"
      ]
     },
     "execution_count": 520,
     "metadata": {},
     "output_type": "execute_result"
    }
   ],
   "source": [
    "X[:,-1][0]=='M'"
   ]
  },
  {
   "cell_type": "code",
   "execution_count": 521,
   "metadata": {},
   "outputs": [],
   "source": [
    "#test_X High School Diploma Matriculation Bachelors Masters No Qualification\n",
    "\n"
   ]
  },
  {
   "cell_type": "code",
   "execution_count": 522,
   "metadata": {},
   "outputs": [],
   "source": [
    "for i,j in enumerate(X[:,1]):\n",
    "#     print(type(i))\n",
    "        if j=='intermediate':\n",
    "            X[:,1][i]=1\n",
    "        elif j=='easy':\n",
    "            X[:,1][i]=0\n",
    "        elif j=='hard':\n",
    "            X[:,1][i]=2\n",
    "        elif j=='vary hard':\n",
    "            X[:,1][i]=3\n",
    "    \n",
    "        \n",
    "        "
   ]
  },
  {
   "cell_type": "code",
   "execution_count": 523,
   "metadata": {},
   "outputs": [],
   "source": [
    "for i,j in enumerate(test_X[:,1]):\n",
    "#     print(type(i))\n",
    "        if j=='intermediate':\n",
    "            test_X[:,1][i]=1\n",
    "        elif j=='easy':\n",
    "            test_X[:,1][i]=0\n",
    "        elif j=='hard':\n",
    "            test_X[:,1][i]=2\n",
    "        elif j=='vary hard':\n",
    "            test_X[:,1][i]=3"
   ]
  },
  {
   "cell_type": "code",
   "execution_count": 524,
   "metadata": {},
   "outputs": [],
   "source": [
    "for i,j in enumerate(X[:,0]):\n",
    "#     print(type(i))\n",
    "        if j=='offline':\n",
    "            X[:,0][i]=1\n",
    "        elif j=='online':\n",
    "            X[:,0][i]=0\n"
   ]
  },
  {
   "cell_type": "code",
   "execution_count": null,
   "metadata": {},
   "outputs": [],
   "source": []
  },
  {
   "cell_type": "code",
   "execution_count": 525,
   "metadata": {},
   "outputs": [],
   "source": [
    "for i,j in enumerate(test_X[:,0]):\n",
    "#     print(type(i))\n",
    "        if j=='offline':\n",
    "            test_X[:,0][i]=1\n",
    "        elif j=='online':\n",
    "            test_X[:,0][i]=0\n"
   ]
  },
  {
   "cell_type": "code",
   "execution_count": 526,
   "metadata": {},
   "outputs": [],
   "source": [
    "for i,j in enumerate(X[:,-1]):\n",
    "#     print(type(i))\n",
    "        if j=='M':\n",
    "            X[:,-1][i]=1\n",
    "        elif j=='F':\n",
    "            X[:,-1][i]=0\n"
   ]
  },
  {
   "cell_type": "code",
   "execution_count": 527,
   "metadata": {},
   "outputs": [],
   "source": [
    "for i,j in enumerate(test_X[:,-1]):\n",
    "#     print(type(i))\n",
    "        if j=='M':\n",
    "            test_X[:,-1][i]=1\n",
    "        elif j=='F':\n",
    "            test_X[:,-1][i]=0\n"
   ]
  },
  {
   "cell_type": "code",
   "execution_count": 528,
   "metadata": {},
   "outputs": [],
   "source": [
    "for i,j in enumerate(X[:,2]):\n",
    "#     print(type(i))\n",
    "        if j=='No Qualification':\n",
    "            X[:,2][i]=0\n",
    "        elif j=='Matriculation':\n",
    "            X[:,2][i]=1\n",
    "        elif j=='High School Diploma':\n",
    "            X[:,2][i]=2\n",
    "        elif j=='Bachelors':\n",
    "            X[:,2][i]=3\n",
    "        elif j=='Masters':\n",
    "            X[:,2][i]=4    "
   ]
  },
  {
   "cell_type": "code",
   "execution_count": 529,
   "metadata": {},
   "outputs": [],
   "source": [
    "for i,j in enumerate(X[:,-2]):\n",
    "#     print(type(i))\n",
    "        if j=='S':\n",
    "            X[:,-2][i]=0\n",
    "        elif j=='T':\n",
    "            X[:,-2][i]=1\n",
    "        elif j=='U':\n",
    "            X[:,-2][i]=2\n",
    "        elif j=='V':\n",
    "            X[:,-2][i]=3\n",
    "        elif j=='W':\n",
    "            X[:,-2][i]=4    \n",
    "        elif j=='X':\n",
    "            X[:,-2][i]=5 \n",
    "        elif j=='Y':\n",
    "            X[:,-2][i]=6 \n",
    "        elif j=='Z':\n",
    "            X[:,-2][i]=7         "
   ]
  },
  {
   "cell_type": "code",
   "execution_count": 530,
   "metadata": {},
   "outputs": [],
   "source": [
    "for i,j in enumerate(test_X[:,-2]):\n",
    "#     print(type(i))\n",
    "        if j=='S':\n",
    "            test_X[:,-2][i]=0\n",
    "        elif j=='T':\n",
    "            test_X[:,-2][i]=1\n",
    "        elif j=='U':\n",
    "            test_X[:,-2][i]=2\n",
    "        elif j=='V':\n",
    "            test_X[:,-2][i]=3\n",
    "        elif j=='W':\n",
    "            test_X[:,-2][i]=4    \n",
    "        elif j=='X':\n",
    "            test_X[:,-2][i]=5 \n",
    "        elif j=='Y':\n",
    "            test_X[:,-2][i]=6 \n",
    "        elif j=='Z':\n",
    "            test_X[:,-2][i]=7         "
   ]
  },
  {
   "cell_type": "code",
   "execution_count": 531,
   "metadata": {},
   "outputs": [],
   "source": [
    "for i,j in enumerate(test_X[:,2]):\n",
    "#     print(type(i))\n",
    "        if j=='No Qualification':\n",
    "            test_X[:,2][i]=0\n",
    "        elif j=='Matriculation':\n",
    "            test_X[:,2][i]=1\n",
    "        elif j=='High School Diploma':\n",
    "            test_X[:,2][i]=2\n",
    "        elif j=='Bachelors':\n",
    "            test_X[:,2][i]=3\n",
    "        elif j=='Masters':\n",
    "            test_X[:,2][i]=4    "
   ]
  },
  {
   "cell_type": "code",
   "execution_count": 532,
   "metadata": {},
   "outputs": [
    {
     "data": {
      "text/plain": [
       "(31349, 10)"
      ]
     },
     "execution_count": 532,
     "metadata": {},
     "output_type": "execute_result"
    }
   ],
   "source": [
    "test_X.shape"
   ]
  },
  {
   "cell_type": "code",
   "execution_count": 533,
   "metadata": {},
   "outputs": [],
   "source": [
    "engage=X[:,3]\n",
    "engage=engage.reshape(-1,1)\n",
    "from sklearn.preprocessing import Imputer\n",
    "imputer = Imputer(missing_values = 'NaN', strategy = 'most_frequent', axis = 0)\n",
    "imputer = imputer.fit(engage)\n",
    "engage = imputer.transform(engage)"
   ]
  },
  {
   "cell_type": "code",
   "execution_count": 534,
   "metadata": {},
   "outputs": [],
   "source": [
    "engage1=test_X[:,3]\n",
    "engage1=engage1.reshape(-1,1)\n",
    "from sklearn.preprocessing import Imputer\n",
    "imputer = Imputer(missing_values = 'NaN', strategy = 'most_frequent', axis = 0)\n",
    "imputer = imputer.fit(engage1)\n",
    "engage1 = imputer.transform(engage1)"
   ]
  },
  {
   "cell_type": "code",
   "execution_count": 535,
   "metadata": {},
   "outputs": [],
   "source": [
    "test_X[:,3]=engage1.reshape(1,-1)"
   ]
  },
  {
   "cell_type": "code",
   "execution_count": 536,
   "metadata": {},
   "outputs": [],
   "source": [
    "train.age=age"
   ]
  },
  {
   "cell_type": "code",
   "execution_count": 537,
   "metadata": {},
   "outputs": [],
   "source": [
    "X[:,3]=engage.reshape(1,-1)"
   ]
  },
  {
   "cell_type": "code",
   "execution_count": null,
   "metadata": {},
   "outputs": [],
   "source": []
  },
  {
   "cell_type": "code",
   "execution_count": 538,
   "metadata": {},
   "outputs": [
    {
     "data": {
      "text/plain": [
       "array([24.0, 26.0, 40.0, ..., 39.0, 27.0, 31.0], dtype=object)"
      ]
     },
     "execution_count": 538,
     "metadata": {},
     "output_type": "execute_result"
    }
   ],
   "source": [
    "X[:,7]"
   ]
  },
  {
   "cell_type": "code",
   "execution_count": 539,
   "metadata": {},
   "outputs": [],
   "source": [
    "age=X[:,7]\n",
    "age=age.reshape(-1,1)\n",
    "from sklearn.preprocessing import Imputer\n",
    "imputer = Imputer(missing_values = 'NaN', strategy = 'mean', axis = 0)\n",
    "imputer = imputer.fit(age)\n",
    "age = imputer.transform(age)"
   ]
  },
  {
   "cell_type": "code",
   "execution_count": 540,
   "metadata": {},
   "outputs": [],
   "source": [
    "age1=test_X[:,7]\n",
    "age1=age1.reshape(-1,1)\n",
    "from sklearn.preprocessing import Imputer\n",
    "imputer = Imputer(missing_values = 'NaN', strategy = 'mean', axis = 0)\n",
    "imputer = imputer.fit(age1)\n",
    "age1 = imputer.transform(age1)"
   ]
  },
  {
   "cell_type": "code",
   "execution_count": 541,
   "metadata": {},
   "outputs": [],
   "source": [
    "X[:,7]=age.reshape(1,-1)"
   ]
  },
  {
   "cell_type": "code",
   "execution_count": 542,
   "metadata": {},
   "outputs": [
    {
     "data": {
      "text/plain": [
       "array([[1, 1, 1, ..., 24.0, 6, 1],\n",
       "       [1, 0, 2, ..., 26.0, 1, 0],\n",
       "       [0, 0, 1, ..., 40.0, 7, 1],\n",
       "       ...,\n",
       "       [0, 0, 1, ..., 39.0, 6, 1],\n",
       "       [1, 1, 2, ..., 27.0, 3, 1],\n",
       "       [0, 0, 2, ..., 31.0, 6, 0]], dtype=object)"
      ]
     },
     "execution_count": 542,
     "metadata": {},
     "output_type": "execute_result"
    }
   ],
   "source": [
    "test_X[:,7]=age1.reshape(1,-1)\n",
    "X"
   ]
  },
  {
   "cell_type": "code",
   "execution_count": 543,
   "metadata": {},
   "outputs": [],
   "source": [
    "# from sklearn.preprocessing import LabelEncoder, OneHotEncoder\n",
    "# labelencoder_X = LabelEncoder()\n",
    "# #Encodes the Categorical values into numerical values\n",
    "# X[:,0] = labelencoder_X.fit_transform(X[:,0])\n",
    "# X[:,2] = labelencoder_X.fit_transform(X[:,2])\n",
    "# X[:,1] = labelencoder_X.fit_transform(X[:,1])#selecting the column \n",
    "# # X[:,4] = labelencoder_X.fit_transform(X[:,4])#selecting the column \n",
    "# # X[:,5] = labelencoder_X.fit_transform(X[:,5])#selecting the column \n"
   ]
  },
  {
   "cell_type": "code",
   "execution_count": 544,
   "metadata": {},
   "outputs": [],
   "source": [
    "# from sklearn.preprocessing import LabelEncoder, OneHotEncoder\n",
    "# labelencoder_X = LabelEncoder()\n",
    "# #Encodes the Categorical values into numerical values\n",
    "# test_X[:,0] = labelencoder_X.fit_transform(test_X[:,0])\n",
    "# test_X[:,2] = labelencoder_X.fit_transform(test_X[:,2])\n",
    "# test_X[:,1] = labelencoder_X.fit_transform(test_X[:,1])#selecting the column \n",
    "# # test_X[:,4] = labelencoder_X.fit_transform(test_X[:,4])#selecting the column \n",
    "# # test_X[:,5] = labelencoder_X.fit_transform(test_X[:,5])#selecting the column \n",
    "# # test_X[:,9] = labelencoder_X.fit_transform(test_X[:,9])#selecting the column \n"
   ]
  },
  {
   "cell_type": "code",
   "execution_count": 545,
   "metadata": {},
   "outputs": [],
   "source": [
    "# X[:,9] = labelencoder_X.fit_transform(X[:,9])#selecting the column \n"
   ]
  },
  {
   "cell_type": "code",
   "execution_count": 546,
   "metadata": {},
   "outputs": [
    {
     "data": {
      "text/plain": [
       "array([[1, 1, 1, ..., 46.0, 1, 0],\n",
       "       [0, 0, 3, ..., 36.44089375191737, 6, 1],\n",
       "       [0, 0, 1, ..., 36.44089375191737, 6, 1],\n",
       "       ...,\n",
       "       [0, 0, 3, ..., 36.44089375191737, 6, 1],\n",
       "       [1, 0, 1, ..., 36.44089375191737, 7, 0],\n",
       "       [1, 2, 1, ..., 26.0, 5, 1]], dtype=object)"
      ]
     },
     "execution_count": 546,
     "metadata": {},
     "output_type": "execute_result"
    }
   ],
   "source": [
    "test_X"
   ]
  },
  {
   "cell_type": "code",
   "execution_count": 547,
   "metadata": {},
   "outputs": [
    {
     "data": {
      "text/plain": [
       "array([[1, 1, 1, ..., 24.0, 6, 1],\n",
       "       [1, 0, 2, ..., 26.0, 1, 0],\n",
       "       [0, 0, 1, ..., 40.0, 7, 1],\n",
       "       ...,\n",
       "       [0, 0, 1, ..., 39.0, 6, 1],\n",
       "       [1, 1, 2, ..., 27.0, 3, 1],\n",
       "       [0, 0, 2, ..., 31.0, 6, 0]], dtype=object)"
      ]
     },
     "execution_count": 547,
     "metadata": {},
     "output_type": "execute_result"
    }
   ],
   "source": [
    "X"
   ]
  },
  {
   "cell_type": "code",
   "execution_count": 548,
   "metadata": {},
   "outputs": [],
   "source": [
    "# onehotencoder = OneHotEncoder(categorical_features= [0,1,2])#onehot encoder\n",
    "# X= onehotencoder.fit_transform(X).toarray()"
   ]
  },
  {
   "cell_type": "code",
   "execution_count": 549,
   "metadata": {},
   "outputs": [],
   "source": [
    "# onehotencoder = OneHotEncoder(categorical_features= [0,1,2])#onehot encoder\n",
    "# test_X= onehotencoder.fit_transform(test_X).toarray()"
   ]
  },
  {
   "cell_type": "code",
   "execution_count": 550,
   "metadata": {},
   "outputs": [],
   "source": [
    "# from sklearn.preprocessing import StandardScaler\n",
    "# sc_X = StandardScaler() \n",
    "# X = sc_X.fit_transform(X)\n",
    "# test_X = sc_X.transform(test_X)"
   ]
  },
  {
   "cell_type": "code",
   "execution_count": 551,
   "metadata": {},
   "outputs": [
    {
     "data": {
      "text/plain": [
       "(73147, 10)"
      ]
     },
     "execution_count": 551,
     "metadata": {},
     "output_type": "execute_result"
    }
   ],
   "source": [
    "X.shape"
   ]
  },
  {
   "cell_type": "code",
   "execution_count": 552,
   "metadata": {},
   "outputs": [
    {
     "data": {
      "text/plain": [
       "(31349, 10)"
      ]
     },
     "execution_count": 552,
     "metadata": {},
     "output_type": "execute_result"
    }
   ],
   "source": [
    "test_X.shape"
   ]
  },
  {
   "cell_type": "code",
   "execution_count": 553,
   "metadata": {},
   "outputs": [],
   "source": [
    "from sklearn.ensemble import RandomForestClassifier,GradientBoostingClassifier\n",
    "from sklearn.linear_model import LogisticRegression\n",
    "from sklearn.svm import SVC, LinearSVC\n",
    "from sklearn.ensemble import RandomForestClassifier\n",
    "from sklearn.neighbors import KNeighborsClassifier\n",
    "from sklearn.naive_bayes import GaussianNB\n",
    "from sklearn.linear_model import Perceptron\n",
    "from sklearn.linear_model import SGDClassifier\n",
    "from sklearn.tree import DecisionTreeClassifier"
   ]
  },
  {
   "cell_type": "code",
   "execution_count": 554,
   "metadata": {},
   "outputs": [],
   "source": [
    "from sklearn.model_selection import train_test_split\n",
    "\n",
    "x_tr,x_te,y_tr,y_te=train_test_split(X,Y,test_size=0.2)"
   ]
  },
  {
   "cell_type": "code",
   "execution_count": null,
   "metadata": {},
   "outputs": [],
   "source": [
    "from xgboost import XGBClassifier\n",
    "clf2=XGBClassifier()\n",
    "clf=RandomForestClassifier(n_estimators=100)\n",
    "clf.fit(X,Y)\n",
    "clf2.fit(x_tr,y_tr)"
   ]
  },
  {
   "cell_type": "code",
   "execution_count": 556,
   "metadata": {},
   "outputs": [],
   "source": [
    "# import pickle\n",
    "# filename = 'finalized_model.sav'\n",
    "# pickle.dump(clf, open(filename, 'wb'))"
   ]
  },
  {
   "cell_type": "code",
   "execution_count": 557,
   "metadata": {},
   "outputs": [],
   "source": [
    "# loaded_model = pickle.load(open(filename, 'rb'))"
   ]
  },
  {
   "cell_type": "code",
   "execution_count": 558,
   "metadata": {},
   "outputs": [],
   "source": [
    "# filename = 'finalized_model.sav'\n",
    "# pickle.dump(loaded_model, open(filename, 'wb'))"
   ]
  },
  {
   "cell_type": "code",
   "execution_count": 559,
   "metadata": {},
   "outputs": [],
   "source": [
    "# loade = pickle.load(open(filename, 'rb'))"
   ]
  },
  {
   "cell_type": "code",
   "execution_count": null,
   "metadata": {},
   "outputs": [],
   "source": []
  },
  {
   "cell_type": "code",
   "execution_count": 560,
   "metadata": {},
   "outputs": [
    {
     "data": {
      "text/plain": [
       "0.8597672471247672"
      ]
     },
     "execution_count": 560,
     "metadata": {},
     "output_type": "execute_result"
    }
   ],
   "source": [
    "clf.score(x_tr,y_tr)"
   ]
  },
  {
   "cell_type": "code",
   "execution_count": 561,
   "metadata": {},
   "outputs": [
    {
     "data": {
      "text/html": [
       "<div>\n",
       "<style scoped>\n",
       "    .dataframe tbody tr th:only-of-type {\n",
       "        vertical-align: middle;\n",
       "    }\n",
       "\n",
       "    .dataframe tbody tr th {\n",
       "        vertical-align: top;\n",
       "    }\n",
       "\n",
       "    .dataframe thead th {\n",
       "        text-align: right;\n",
       "    }\n",
       "</style>\n",
       "<table border=\"1\" class=\"dataframe\">\n",
       "  <thead>\n",
       "    <tr style=\"text-align: right;\">\n",
       "      <th></th>\n",
       "      <th>id</th>\n",
       "      <th>is_pass</th>\n",
       "    </tr>\n",
       "  </thead>\n",
       "  <tbody>\n",
       "    <tr>\n",
       "      <th>0</th>\n",
       "      <td>1626_45</td>\n",
       "      <td>1</td>\n",
       "    </tr>\n",
       "    <tr>\n",
       "      <th>1</th>\n",
       "      <td>11020_130</td>\n",
       "      <td>1</td>\n",
       "    </tr>\n",
       "    <tr>\n",
       "      <th>2</th>\n",
       "      <td>12652_146</td>\n",
       "      <td>1</td>\n",
       "    </tr>\n",
       "    <tr>\n",
       "      <th>3</th>\n",
       "      <td>7038_72</td>\n",
       "      <td>0</td>\n",
       "    </tr>\n",
       "    <tr>\n",
       "      <th>4</th>\n",
       "      <td>888_71</td>\n",
       "      <td>1</td>\n",
       "    </tr>\n",
       "  </tbody>\n",
       "</table>\n",
       "</div>"
      ],
      "text/plain": [
       "          id  is_pass\n",
       "0    1626_45        1\n",
       "1  11020_130        1\n",
       "2  12652_146        1\n",
       "3    7038_72        0\n",
       "4     888_71        1"
      ]
     },
     "execution_count": 561,
     "metadata": {},
     "output_type": "execute_result"
    }
   ],
   "source": [
    "sample.head()"
   ]
  },
  {
   "cell_type": "code",
   "execution_count": 562,
   "metadata": {},
   "outputs": [],
   "source": [
    "ypred=clf.predict(test_X)"
   ]
  },
  {
   "cell_type": "code",
   "execution_count": 563,
   "metadata": {},
   "outputs": [],
   "source": [
    "sample['is_pass']=ypred"
   ]
  },
  {
   "cell_type": "code",
   "execution_count": 564,
   "metadata": {},
   "outputs": [],
   "source": [
    "sample.to_csv('anally.csv', sep=',',index=False)"
   ]
  },
  {
   "cell_type": "code",
   "execution_count": 565,
   "metadata": {},
   "outputs": [
    {
     "data": {
      "text/plain": [
       "(31349, 2)"
      ]
     },
     "execution_count": 565,
     "metadata": {},
     "output_type": "execute_result"
    }
   ],
   "source": [
    "sample.shape"
   ]
  },
  {
   "cell_type": "code",
   "execution_count": null,
   "metadata": {},
   "outputs": [],
   "source": []
  }
 ],
 "metadata": {
  "kernelspec": {
   "display_name": "Python 3",
   "language": "python",
   "name": "python3"
  },
  "language_info": {
   "codemirror_mode": {
    "name": "ipython",
    "version": 3
   },
   "file_extension": ".py",
   "mimetype": "text/x-python",
   "name": "python",
   "nbconvert_exporter": "python",
   "pygments_lexer": "ipython3",
   "version": "3.6.4"
  }
 },
 "nbformat": 4,
 "nbformat_minor": 2
}
